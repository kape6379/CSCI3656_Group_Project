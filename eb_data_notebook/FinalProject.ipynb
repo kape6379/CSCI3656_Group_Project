{
 "cells": [
  {
   "cell_type": "markdown",
   "id": "278b9f92-4465-47a3-a43e-c98b3f613e85",
   "metadata": {
    "tags": []
   },
   "source": [
    "# Open Topography\n",
    "https://opentopography.org/ Is a free source for topography data. The site offers a nice map where you can scroll around and pick datasets. <br>\n",
    "<br>\n",
    "\n",
    "![image.png](bigdatamap.JPG)\n",
    "\n",
    "<br>\n",
    "\n",
    "![image.png](datamap.JPG)\n",
    "\n",
    "<br>\n",
    "\n",
    "To be able to a access all the datasets create a free account with your school email address. Most of the datasets come in the form of point cloud data from LIDAR scans so we will have to import, manage and modify, and export point cloud data in Julia.\n"
   ]
  },
  {
   "cell_type": "markdown",
   "id": "7ce1d90e-becb-46d1-8916-7439b8d9c609",
   "metadata": {},
   "source": [
    "# Point Cloud data in Julia"
   ]
  },
  {
   "cell_type": "markdown",
   "id": "37dee9e6-e3ae-4c3c-a176-4f60012b5159",
   "metadata": {},
   "source": [
    "My goal with this notebook is to provide an example of one way we could get topographical data into julia and modify it to be used in our final project. The data set I used for this notebook can be accessed through the following link : https://portal.opentopography.org/result?id=pc1650053613814. Upon opening the link you will be directed to the following page.<br>\n",
    "\n",
    "\n",
    "![alt text for screen readers](initial_data_page.JPG \"Link page\")\n",
    "\n",
    "<br>\n",
    "\n",
    "Click the link in the bottom right titled <i>modify and resubmit this job</i>. <br>\n",
    "\n",
    "Upon doing so you will be redirected to the site where you can submit the request for the  point cloud dataset I have loaded into this notebook. The top of the page has some description of the dataset (LIDAR scan of the boulder creek area in august of 2010). Just below will be the tool for selecting an area of intrest (leave this unchanged to get the same dataset as I did) followed by various options. To get the data set go to the bottom and enter your email address and click submit. This may take couple minutes but afterwards you should get the following page. <br>\n",
    "\n",
    "![page](down_page.JPG \"download page\")\n",
    "\n",
    "Download the ascii file for the data.\n",
    "\n",
    "We will need to use the ascii format to modify the data.\n",
    "\n",
    "The laz file format has good read and write capabilities but modifying existing data is not possible using existing julia packages to handle \n",
    "las/laz files."
   ]
  },
  {
   "cell_type": "markdown",
   "id": "70268b16-f3ce-4529-bd42-cb2f41211e2d",
   "metadata": {},
   "source": [
    "Point cloud datasets can be very large if the region scanned is big thus I have chosen a small region of the flatirons for this example <br>\n",
    "\n",
    "![alt text for screen readers](init_data_image.png \"Text to show on mouseover\") <br>\n",
    "\n",
    "The region contains some forestry and two rock formations.\n",
    "\n",
    "This website hosts lots of other point cloud datasets so we are not restricted to using the data I have chosen for this example. And getting the data for a different dataset is basically the same process as downloading the set I picked except for you choose your own."
   ]
  },
  {
   "cell_type": "markdown",
   "id": "dc9d9e2b-e570-4bbe-bb5f-9a7a931f94c6",
   "metadata": {},
   "source": [
    "# Loading the dataset into Julia"
   ]
  },
  {
   "cell_type": "code",
   "execution_count": 1,
   "id": "faa40a7b-ceac-4561-818a-56846057c544",
   "metadata": {},
   "outputs": [
    {
     "data": {
      "text/html": [
       "<div class=\"data-frame\"><p>403,473 rows × 16 columns (omitted printing of 8 columns)</p><table class=\"data-frame\"><thead><tr><th></th><th>x</th><th>y</th><th>z</th><th>classification</th><th>gpstime</th><th>scan_angle</th><th>intensity</th><th>number_of_returns</th></tr><tr><th></th><th title=\"Float64\">Float64</th><th title=\"Float64\">Float64</th><th title=\"Float64\">Float64</th><th title=\"Int64\">Int64</th><th title=\"Float64\">Float64</th><th title=\"Int64\">Int64</th><th title=\"Int64\">Int64</th><th title=\"Int64\">Int64</th></tr></thead><tbody><tr><th>1</th><td>4.75e5</td><td>4.42605e6</td><td>2113.41</td><td>2</td><td>75321.7</td><td>-10</td><td>64</td><td>1</td></tr><tr><th>2</th><td>474999.0</td><td>4.42605e6</td><td>2113.43</td><td>2</td><td>75321.7</td><td>-10</td><td>65</td><td>1</td></tr><tr><th>3</th><td>4.74998e5</td><td>4.42605e6</td><td>2113.74</td><td>2</td><td>75321.7</td><td>-10</td><td>61</td><td>1</td></tr><tr><th>4</th><td>4.74998e5</td><td>4.42605e6</td><td>2114.22</td><td>2</td><td>75321.7</td><td>-10</td><td>62</td><td>1</td></tr><tr><th>5</th><td>4.74997e5</td><td>4.42605e6</td><td>2114.57</td><td>2</td><td>75321.7</td><td>-10</td><td>56</td><td>1</td></tr><tr><th>6</th><td>4.74997e5</td><td>4.42605e6</td><td>2115.14</td><td>2</td><td>75321.7</td><td>-10</td><td>54</td><td>1</td></tr><tr><th>7</th><td>474996.0</td><td>4.42605e6</td><td>2115.7</td><td>2</td><td>75321.7</td><td>-10</td><td>56</td><td>1</td></tr><tr><th>8</th><td>4.74995e5</td><td>4.42605e6</td><td>2116.36</td><td>2</td><td>75321.7</td><td>-10</td><td>63</td><td>1</td></tr><tr><th>9</th><td>4.74995e5</td><td>4.42605e6</td><td>2116.73</td><td>2</td><td>75321.7</td><td>-10</td><td>53</td><td>1</td></tr><tr><th>10</th><td>4.74994e5</td><td>4.42605e6</td><td>2116.84</td><td>2</td><td>75321.7</td><td>-10</td><td>55</td><td>1</td></tr><tr><th>11</th><td>4.74989e5</td><td>4.42605e6</td><td>2118.02</td><td>2</td><td>75321.7</td><td>-10</td><td>69</td><td>1</td></tr><tr><th>12</th><td>474990.0</td><td>4.42605e6</td><td>2118.23</td><td>2</td><td>75321.7</td><td>-10</td><td>56</td><td>1</td></tr><tr><th>13</th><td>4.74992e5</td><td>4.42605e6</td><td>2118.78</td><td>2</td><td>75321.7</td><td>-10</td><td>58</td><td>1</td></tr><tr><th>14</th><td>4.74992e5</td><td>4.42605e6</td><td>2118.58</td><td>1</td><td>75321.7</td><td>-10</td><td>45</td><td>1</td></tr><tr><th>15</th><td>4.74993e5</td><td>4.42605e6</td><td>2117.89</td><td>2</td><td>75321.7</td><td>-10</td><td>42</td><td>1</td></tr><tr><th>16</th><td>4.74993e5</td><td>4.42605e6</td><td>2116.98</td><td>2</td><td>75321.7</td><td>-10</td><td>57</td><td>1</td></tr><tr><th>17</th><td>4.74994e5</td><td>4.42605e6</td><td>2116.98</td><td>2</td><td>75321.7</td><td>-10</td><td>45</td><td>1</td></tr><tr><th>18</th><td>4.74994e5</td><td>4.42605e6</td><td>2116.46</td><td>2</td><td>75321.7</td><td>-10</td><td>55</td><td>1</td></tr><tr><th>19</th><td>4.74995e5</td><td>4.42605e6</td><td>2116.42</td><td>2</td><td>75321.7</td><td>-10</td><td>53</td><td>1</td></tr><tr><th>20</th><td>4.74996e5</td><td>4.42605e6</td><td>2115.93</td><td>2</td><td>75321.7</td><td>-10</td><td>55</td><td>1</td></tr><tr><th>21</th><td>4.74996e5</td><td>4.42605e6</td><td>2115.32</td><td>2</td><td>75321.7</td><td>-10</td><td>61</td><td>1</td></tr><tr><th>22</th><td>4.74997e5</td><td>4.42605e6</td><td>2114.79</td><td>1</td><td>75321.7</td><td>-10</td><td>58</td><td>1</td></tr><tr><th>23</th><td>4.74997e5</td><td>4.42605e6</td><td>2114.24</td><td>2</td><td>75321.7</td><td>-10</td><td>56</td><td>1</td></tr><tr><th>24</th><td>4.74998e5</td><td>4.42605e6</td><td>2114.02</td><td>2</td><td>75321.7</td><td>-10</td><td>64</td><td>1</td></tr><tr><th>25</th><td>4.74999e5</td><td>4.42605e6</td><td>2113.56</td><td>2</td><td>75321.7</td><td>-10</td><td>83</td><td>1</td></tr><tr><th>26</th><td>4.74999e5</td><td>4.42605e6</td><td>2113.55</td><td>2</td><td>75321.7</td><td>-10</td><td>63</td><td>1</td></tr><tr><th>27</th><td>475000.0</td><td>4.42605e6</td><td>2112.71</td><td>2</td><td>75321.7</td><td>-10</td><td>49</td><td>1</td></tr><tr><th>28</th><td>4.74999e5</td><td>4.42605e6</td><td>2113.36</td><td>2</td><td>75321.7</td><td>-10</td><td>50</td><td>1</td></tr><tr><th>29</th><td>4.74999e5</td><td>4.42605e6</td><td>2113.93</td><td>1</td><td>75321.7</td><td>-10</td><td>47</td><td>1</td></tr><tr><th>30</th><td>4.74998e5</td><td>4.42605e6</td><td>2113.7</td><td>2</td><td>75321.7</td><td>-10</td><td>68</td><td>1</td></tr><tr><th>&vellip;</th><td>&vellip;</td><td>&vellip;</td><td>&vellip;</td><td>&vellip;</td><td>&vellip;</td><td>&vellip;</td><td>&vellip;</td><td>&vellip;</td></tr></tbody></table></div>"
      ],
      "text/latex": [
       "\\begin{tabular}{r|ccccccccc}\n",
       "\t& x & y & z & classification & gpstime & scan\\_angle & intensity & number\\_of\\_returns & \\\\\n",
       "\t\\hline\n",
       "\t& Float64 & Float64 & Float64 & Int64 & Float64 & Int64 & Int64 & Int64 & \\\\\n",
       "\t\\hline\n",
       "\t1 & 4.75e5 & 4.42605e6 & 2113.41 & 2 & 75321.7 & -10 & 64 & 1 & $\\dots$ \\\\\n",
       "\t2 & 474999.0 & 4.42605e6 & 2113.43 & 2 & 75321.7 & -10 & 65 & 1 & $\\dots$ \\\\\n",
       "\t3 & 4.74998e5 & 4.42605e6 & 2113.74 & 2 & 75321.7 & -10 & 61 & 1 & $\\dots$ \\\\\n",
       "\t4 & 4.74998e5 & 4.42605e6 & 2114.22 & 2 & 75321.7 & -10 & 62 & 1 & $\\dots$ \\\\\n",
       "\t5 & 4.74997e5 & 4.42605e6 & 2114.57 & 2 & 75321.7 & -10 & 56 & 1 & $\\dots$ \\\\\n",
       "\t6 & 4.74997e5 & 4.42605e6 & 2115.14 & 2 & 75321.7 & -10 & 54 & 1 & $\\dots$ \\\\\n",
       "\t7 & 474996.0 & 4.42605e6 & 2115.7 & 2 & 75321.7 & -10 & 56 & 1 & $\\dots$ \\\\\n",
       "\t8 & 4.74995e5 & 4.42605e6 & 2116.36 & 2 & 75321.7 & -10 & 63 & 1 & $\\dots$ \\\\\n",
       "\t9 & 4.74995e5 & 4.42605e6 & 2116.73 & 2 & 75321.7 & -10 & 53 & 1 & $\\dots$ \\\\\n",
       "\t10 & 4.74994e5 & 4.42605e6 & 2116.84 & 2 & 75321.7 & -10 & 55 & 1 & $\\dots$ \\\\\n",
       "\t11 & 4.74989e5 & 4.42605e6 & 2118.02 & 2 & 75321.7 & -10 & 69 & 1 & $\\dots$ \\\\\n",
       "\t12 & 474990.0 & 4.42605e6 & 2118.23 & 2 & 75321.7 & -10 & 56 & 1 & $\\dots$ \\\\\n",
       "\t13 & 4.74992e5 & 4.42605e6 & 2118.78 & 2 & 75321.7 & -10 & 58 & 1 & $\\dots$ \\\\\n",
       "\t14 & 4.74992e5 & 4.42605e6 & 2118.58 & 1 & 75321.7 & -10 & 45 & 1 & $\\dots$ \\\\\n",
       "\t15 & 4.74993e5 & 4.42605e6 & 2117.89 & 2 & 75321.7 & -10 & 42 & 1 & $\\dots$ \\\\\n",
       "\t16 & 4.74993e5 & 4.42605e6 & 2116.98 & 2 & 75321.7 & -10 & 57 & 1 & $\\dots$ \\\\\n",
       "\t17 & 4.74994e5 & 4.42605e6 & 2116.98 & 2 & 75321.7 & -10 & 45 & 1 & $\\dots$ \\\\\n",
       "\t18 & 4.74994e5 & 4.42605e6 & 2116.46 & 2 & 75321.7 & -10 & 55 & 1 & $\\dots$ \\\\\n",
       "\t19 & 4.74995e5 & 4.42605e6 & 2116.42 & 2 & 75321.7 & -10 & 53 & 1 & $\\dots$ \\\\\n",
       "\t20 & 4.74996e5 & 4.42605e6 & 2115.93 & 2 & 75321.7 & -10 & 55 & 1 & $\\dots$ \\\\\n",
       "\t21 & 4.74996e5 & 4.42605e6 & 2115.32 & 2 & 75321.7 & -10 & 61 & 1 & $\\dots$ \\\\\n",
       "\t22 & 4.74997e5 & 4.42605e6 & 2114.79 & 1 & 75321.7 & -10 & 58 & 1 & $\\dots$ \\\\\n",
       "\t23 & 4.74997e5 & 4.42605e6 & 2114.24 & 2 & 75321.7 & -10 & 56 & 1 & $\\dots$ \\\\\n",
       "\t24 & 4.74998e5 & 4.42605e6 & 2114.02 & 2 & 75321.7 & -10 & 64 & 1 & $\\dots$ \\\\\n",
       "\t25 & 4.74999e5 & 4.42605e6 & 2113.56 & 2 & 75321.7 & -10 & 83 & 1 & $\\dots$ \\\\\n",
       "\t26 & 4.74999e5 & 4.42605e6 & 2113.55 & 2 & 75321.7 & -10 & 63 & 1 & $\\dots$ \\\\\n",
       "\t27 & 475000.0 & 4.42605e6 & 2112.71 & 2 & 75321.7 & -10 & 49 & 1 & $\\dots$ \\\\\n",
       "\t28 & 4.74999e5 & 4.42605e6 & 2113.36 & 2 & 75321.7 & -10 & 50 & 1 & $\\dots$ \\\\\n",
       "\t29 & 4.74999e5 & 4.42605e6 & 2113.93 & 1 & 75321.7 & -10 & 47 & 1 & $\\dots$ \\\\\n",
       "\t30 & 4.74998e5 & 4.42605e6 & 2113.7 & 2 & 75321.7 & -10 & 68 & 1 & $\\dots$ \\\\\n",
       "\t$\\dots$ & $\\dots$ & $\\dots$ & $\\dots$ & $\\dots$ & $\\dots$ & $\\dots$ & $\\dots$ & $\\dots$ &  \\\\\n",
       "\\end{tabular}\n"
      ],
      "text/plain": [
       "\u001b[1m403473×16 DataFrame\u001b[0m\n",
       "\u001b[1m    Row \u001b[0m│\u001b[1m x              \u001b[0m\u001b[1m y         \u001b[0m\u001b[1m z       \u001b[0m\u001b[1m classification \u001b[0m\u001b[1m gpstime  \u001b[0m\u001b[1m scan_a\u001b[0m ⋯\n",
       "\u001b[1m        \u001b[0m│\u001b[90m Float64        \u001b[0m\u001b[90m Float64   \u001b[0m\u001b[90m Float64 \u001b[0m\u001b[90m Int64          \u001b[0m\u001b[90m Float64  \u001b[0m\u001b[90m Int64 \u001b[0m ⋯\n",
       "────────┼───────────────────────────────────────────────────────────────────────\n",
       "      1 │      4.75e5     4.42605e6  2113.41               2   75321.7         ⋯\n",
       "      2 │ 474999.0        4.42605e6  2113.43               2   75321.7\n",
       "      3 │      4.74998e5  4.42605e6  2113.74               2   75321.7\n",
       "      4 │      4.74998e5  4.42605e6  2114.22               2   75321.7\n",
       "      5 │      4.74997e5  4.42605e6  2114.57               2   75321.7         ⋯\n",
       "      6 │      4.74997e5  4.42605e6  2115.14               2   75321.7\n",
       "      7 │ 474996.0        4.42605e6  2115.7                2   75321.7\n",
       "      8 │      4.74995e5  4.42605e6  2116.36               2   75321.7\n",
       "      9 │      4.74995e5  4.42605e6  2116.73               2   75321.7         ⋯\n",
       "     10 │      4.74994e5  4.42605e6  2116.84               2   75321.7\n",
       "     11 │      4.74989e5  4.42605e6  2118.02               2   75321.7\n",
       "   ⋮    │       ⋮             ⋮         ⋮           ⋮            ⋮          ⋮  ⋱\n",
       " 403464 │ 475001.0        4.42618e6  2068.11               1  317145.0\n",
       " 403465 │      4.75001e5  4.42618e6  2068.19               1  317145.0         ⋯\n",
       " 403466 │      4.75001e5  4.42618e6  2060.27               1  317145.0\n",
       " 403467 │      4.75001e5  4.42619e6  2068.02               1  317145.0\n",
       " 403468 │ 475001.0        4.42618e6  2060.43               2  317145.0\n",
       " 403469 │      4.75001e5  4.42619e6  2060.55               2  317145.0         ⋯\n",
       " 403470 │      4.75001e5  4.42619e6  2060.79               2  317145.0\n",
       " 403471 │      4.75001e5  4.42619e6  2061.14               2  317145.0\n",
       " 403472 │      4.75001e5  4.42619e6  2061.19               2  317145.0\n",
       " 403473 │      4.75e5     4.42619e6  2061.16               2  317145.0         ⋯\n",
       "\u001b[36m                                              11 columns and 403452 rows omitted\u001b[0m"
      ]
     },
     "execution_count": 1,
     "metadata": {},
     "output_type": "execute_result"
    }
   ],
   "source": [
    "# this may take a while on coding.csel\n",
    "# if the kernel crashes try it again it should eventually work\n",
    "# it will definitly be easier work with a juptyer notebook not running in the cloud\n",
    "\n",
    "import Pkg; \n",
    "Pkg.add(\"CSV\")\n",
    "using DataFrames\n",
    "using CSV\n",
    "\n",
    "## load in the point cloud data\n",
    "data = DataFrame(CSV.File(\"points.txt\"))\n"
   ]
  },
  {
   "cell_type": "markdown",
   "id": "152727c8-3310-4a5a-843f-0c6a95d0ac3a",
   "metadata": {},
   "source": [
    "# Point Clouds\n",
    "Each point response from the LIDAR camera is given in the rows.\n",
    "For a good overview of what the various columns represent take a look at the following page.\n",
    "https://www.usna.edu/Users/oceano/pguth/md_help/html/las_format.htm <br>\n",
    "From here we should be able to add,delete, and modify the points to our liking before passing the data into the interpolation package.\n"
   ]
  },
  {
   "cell_type": "code",
   "execution_count": 6,
   "id": "62aa3e06-d7b8-47bd-8628-5d67dcfbfe22",
   "metadata": {},
   "outputs": [
    {
     "name": "stdout",
     "output_type": "stream",
     "text": [
      "64\n",
      "62\n"
     ]
    }
   ],
   "source": [
    "println(data[1,\"intensity\"])\n",
    "data[1,\"intensity\"] = 62\n",
    "println(data[1,\"intensity\"])\n",
    "\n",
    "# if we wanted to output the modifyed dataset to a csv file we would do the following\n",
    "# CSV.write(output_path, data)"
   ]
  },
  {
   "cell_type": "markdown",
   "id": "99073463-8c87-41d9-94a8-265b0dbc103f",
   "metadata": {},
   "source": [
    "# Visualizing the data set\n",
    "To get good visualizations of the data we will have to use a external application such as CloudCompare https://www.danielgm.net/cc/. Here are some screnshots of the dataset in CloudCompare. The visualization is much clearer in the program for some reason my screencaps are kind of blurry. <br>\n",
    "![page](v1.JPG \"download page\")\n",
    "![page](v2.JPG \"download page\")\n",
    "![page](v3.JPG \"download page\")\n",
    "![page](v4.JPG \"download page\")"
   ]
  },
  {
   "cell_type": "markdown",
   "id": "dbddfb01-7d4f-4673-93c6-a67d46cf5fb7",
   "metadata": {},
   "source": [
    "# Thoughts\n",
    "I think for our dataset we should avoid a region that has a lot of forestry or repeated features. In the dataset I worked with the forestry kind of meddles the overall visual and distract from the three flatirons present. We should look for something that has a very clear and distinct visual representation so that our comparisons to the test visualiztions are valid. The process I have laid out in this notebook seems to be the quickest and most manageable way to load in point cloud data, modify it, and create visuals. Other methods seem to require a lot of file conversions or utilize expensive software. Our next step should be to find a dataset that has a nice clear visual and figure out what elements of it we are going to remove to be re-filled in by the interpolation package."
   ]
  }
 ],
 "metadata": {
  "kernelspec": {
   "display_name": "Julia 1.6.1",
   "language": "julia",
   "name": "julia-1.6"
  },
  "language_info": {
   "file_extension": ".jl",
   "mimetype": "application/julia",
   "name": "julia",
   "version": "1.6.1"
  }
 },
 "nbformat": 4,
 "nbformat_minor": 5
}

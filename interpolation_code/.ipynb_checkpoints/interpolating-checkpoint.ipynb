{
 "cells": [
  {
   "cell_type": "code",
   "execution_count": 1,
   "id": "4b13b979-2a00-41e4-add6-bd334fdb8030",
   "metadata": {
    "tags": []
   },
   "outputs": [],
   "source": [
    "import scipy\n",
    "import pandas as pd\n",
    "import numpy as np\n",
    "%matplotlib inline\n",
    "import matplotlib.pyplot as plt\n",
    "from scipy import interpolate"
   ]
  },
  {
   "cell_type": "code",
   "execution_count": 2,
   "id": "f4c40032-3eab-4d80-b9b2-1afd1ee04818",
   "metadata": {},
   "outputs": [
    {
     "name": "stderr",
     "output_type": "stream",
     "text": [
      "/opt/conda/lib/python3.9/site-packages/IPython/core/interactiveshell.py:3441: FutureWarning: In a future version of pandas all arguments of read_csv except for the argument 'filepath_or_buffer' will be keyword-only\n",
      "  exec(code_obj, self.user_global_ns, self.user_ns)\n"
     ]
    }
   ],
   "source": [
    "# The dataset i am using comes from here : https://portal.opentopography.org/datasetMetadata?otCollectionID=OT.072018.6635.1\n",
    "# this is a lidar scan of Kilauea Volcano in Hawaii\n",
    "# the overall dataset is large so I have taken just a sample of one of the sides of the volcano\n",
    "# this data can be found in points.txt\n",
    "\n",
    "# we are going to be working with an evenly spaced subsample of these points and try to reconstruct the orignal image\n",
    "# using interpolation (in particular we will apply linear barycentric interpolation)\n",
    "\n",
    "# importing the subsampled points\n",
    "df = pd.read_csv(\"points_subsampled.txt\", ' ')"
   ]
  },
  {
   "cell_type": "code",
   "execution_count": 3,
   "id": "72ab84eb-5015-4acc-b82b-f4b82784c288",
   "metadata": {},
   "outputs": [],
   "source": [
    "df = df[df[\"Z\"] >= 500] # this particular dataset has some weird points located below the surface that we would like to remove"
   ]
  },
  {
   "cell_type": "code",
   "execution_count": 4,
   "id": "4c69bd07-a7d4-494e-9f46-ca56a94e124d",
   "metadata": {},
   "outputs": [
    {
     "data": {
      "text/html": [
       "<div>\n",
       "<style scoped>\n",
       "    .dataframe tbody tr th:only-of-type {\n",
       "        vertical-align: middle;\n",
       "    }\n",
       "\n",
       "    .dataframe tbody tr th {\n",
       "        vertical-align: top;\n",
       "    }\n",
       "\n",
       "    .dataframe thead th {\n",
       "        text-align: right;\n",
       "    }\n",
       "</style>\n",
       "<table border=\"1\" class=\"dataframe\">\n",
       "  <thead>\n",
       "    <tr style=\"text-align: right;\">\n",
       "      <th></th>\n",
       "      <th>X</th>\n",
       "      <th>Y</th>\n",
       "      <th>Z</th>\n",
       "    </tr>\n",
       "  </thead>\n",
       "  <tbody>\n",
       "    <tr>\n",
       "      <th>3</th>\n",
       "      <td>260716.220001</td>\n",
       "      <td>2.147507e+06</td>\n",
       "      <td>788.320007</td>\n",
       "    </tr>\n",
       "    <tr>\n",
       "      <th>4</th>\n",
       "      <td>260721.660004</td>\n",
       "      <td>2.147506e+06</td>\n",
       "      <td>792.869995</td>\n",
       "    </tr>\n",
       "    <tr>\n",
       "      <th>5</th>\n",
       "      <td>260718.139999</td>\n",
       "      <td>2.147526e+06</td>\n",
       "      <td>794.429993</td>\n",
       "    </tr>\n",
       "    <tr>\n",
       "      <th>6</th>\n",
       "      <td>260720.580002</td>\n",
       "      <td>2.147520e+06</td>\n",
       "      <td>792.830017</td>\n",
       "    </tr>\n",
       "    <tr>\n",
       "      <th>7</th>\n",
       "      <td>260723.419998</td>\n",
       "      <td>2.147517e+06</td>\n",
       "      <td>794.330017</td>\n",
       "    </tr>\n",
       "    <tr>\n",
       "      <th>...</th>\n",
       "      <td>...</td>\n",
       "      <td>...</td>\n",
       "      <td>...</td>\n",
       "    </tr>\n",
       "    <tr>\n",
       "      <th>19859</th>\n",
       "      <td>260686.129997</td>\n",
       "      <td>2.147494e+06</td>\n",
       "      <td>761.690002</td>\n",
       "    </tr>\n",
       "    <tr>\n",
       "      <th>19860</th>\n",
       "      <td>260606.179993</td>\n",
       "      <td>2.147638e+06</td>\n",
       "      <td>766.080017</td>\n",
       "    </tr>\n",
       "    <tr>\n",
       "      <th>19861</th>\n",
       "      <td>260665.309998</td>\n",
       "      <td>2.147700e+06</td>\n",
       "      <td>869.760010</td>\n",
       "    </tr>\n",
       "    <tr>\n",
       "      <th>19862</th>\n",
       "      <td>260677.690002</td>\n",
       "      <td>2.147683e+06</td>\n",
       "      <td>867.549988</td>\n",
       "    </tr>\n",
       "    <tr>\n",
       "      <th>19863</th>\n",
       "      <td>260682.550003</td>\n",
       "      <td>2.147642e+06</td>\n",
       "      <td>823.760010</td>\n",
       "    </tr>\n",
       "  </tbody>\n",
       "</table>\n",
       "<p>13475 rows × 3 columns</p>\n",
       "</div>"
      ],
      "text/plain": [
       "                   X             Y           Z\n",
       "3      260716.220001  2.147507e+06  788.320007\n",
       "4      260721.660004  2.147506e+06  792.869995\n",
       "5      260718.139999  2.147526e+06  794.429993\n",
       "6      260720.580002  2.147520e+06  792.830017\n",
       "7      260723.419998  2.147517e+06  794.330017\n",
       "...              ...           ...         ...\n",
       "19859  260686.129997  2.147494e+06  761.690002\n",
       "19860  260606.179993  2.147638e+06  766.080017\n",
       "19861  260665.309998  2.147700e+06  869.760010\n",
       "19862  260677.690002  2.147683e+06  867.549988\n",
       "19863  260682.550003  2.147642e+06  823.760010\n",
       "\n",
       "[13475 rows x 3 columns]"
      ]
     },
     "execution_count": 4,
     "metadata": {},
     "output_type": "execute_result"
    }
   ],
   "source": [
    "coords = df[[\"X\",\"Y\",\"Z\"]] # we are going to isolate the x, y , and z coordinates of our data (since we are going to interpolate the z position based on x and y values)\n",
    "coords"
   ]
  },
  {
   "cell_type": "code",
   "execution_count": 5,
   "id": "0b34ab8b-010a-4f33-a2b5-ea413cd011e9",
   "metadata": {},
   "outputs": [],
   "source": [
    "# lets get the boundry coordinates of the dataset\n",
    "xMin = coords['X'].min()\n",
    "xMax = coords['X'].max()\n",
    "\n",
    "yMin = coords['Y'].min()\n",
    "yMax = coords['Y'].max()\n",
    "\n",
    "# the number of points we have\n",
    "numPoints = coords.shape[0]\n",
    "\n",
    "# We are going to refill in points so that we have the same number of points as the original\n",
    "totalPoints = 533572 - numPoints"
   ]
  },
  {
   "cell_type": "code",
   "execution_count": 6,
   "id": "0c3614f0-a467-4a7e-bb35-1816c60acb8b",
   "metadata": {},
   "outputs": [],
   "source": [
    "# now lets generate a bunch of random x y coordinates within the region that we are going to get z values for by interpolation\n",
    "new_xs = np.random.uniform(xMin,xMax,totalPoints)\n",
    "new_ys = np.random.uniform(yMin,yMax,totalPoints)\n",
    "\n",
    "interp_points = zip(new_xs,new_ys)"
   ]
  },
  {
   "cell_type": "code",
   "execution_count": 7,
   "id": "84abc6e0-350b-4d14-8d7b-a62557dc6155",
   "metadata": {},
   "outputs": [],
   "source": [
    "# Now that we have generated our set of random points lets interpolate \n",
    "\n",
    "# getting original x,y,and z values\n",
    "\n",
    "x_orig = coords['X'].values\n",
    "y_orig = coords['Y'].values\n",
    "z_orig = coords['Z'].values \n",
    "\n",
    "\n",
    "# creating the interpolater can choose between a nearest neighbors, barycentric linear, or cubic interpolating bezier polynomials\n",
    "# interp = interpolate.LinearNDInterpolator(list(zip(x_orig,y_orig)),z_orig)\n",
    "# interp = interpolate.CloughTocher2DInterpolator(list(zip(x_orig,y_orig)),z_orig)\n",
    "interp = interpolate.NearestNDInterpolator(list(zip(x_orig,y_orig)),z_orig)\n",
    "\n",
    "# get the z values for these points\n",
    "Z = interp(new_xs,new_ys)"
   ]
  },
  {
   "cell_type": "code",
   "execution_count": 8,
   "id": "d07492e7-9e6b-4b10-9474-2759fa7e4e78",
   "metadata": {},
   "outputs": [],
   "source": [
    "new_points = pd.DataFrame({'X' : new_xs, 'Y' : new_ys, 'Z' : Z}) # this is a dataframe consisting of all the new points we generated by interpolation"
   ]
  },
  {
   "cell_type": "code",
   "execution_count": 9,
   "id": "3deef82e-7fd5-4f1c-911f-ed90cc3fd90f",
   "metadata": {},
   "outputs": [
    {
     "name": "stdout",
     "output_type": "stream",
     "text": [
      "original Medians -> x : 260715.55999756, y : 2147585.73000336, z : 827.15002441\n",
      "original Mins -> x : 260594.11000061, y : 2147482.95999908, z : 699.90002441\n",
      "original Maxs -> x : 260822.61000061, y : 2147699.80000305, z : 1002.65997314\n",
      "\n",
      "interpolated value medians -> x : 260708.18693967003, y : 2147591.3775684703, z : 823.1121807444727\n",
      "interpolated value mins -> x : 260594.11011660672, y : 2147482.9602430305, z : 700.3140425307566\n",
      "interpolated value maxs -> x : 260822.609066369, y : 2147699.7989938827, z : 1005.0175362985545\n"
     ]
    }
   ],
   "source": [
    "# quick sanity check to make sure nothing crazy is going on\n",
    "print(\"original Medians -> x : {}, y : {}, z : {}\".format(coords[\"X\"].median(),coords[\"Y\"].median(),coords[\"Z\"].median()))\n",
    "print(\"original Mins -> x : {}, y : {}, z : {}\".format(coords[\"X\"].min(),coords[\"Y\"].min(),coords[\"Z\"].min()))\n",
    "print(\"original Maxs -> x : {}, y : {}, z : {}\".format(coords[\"X\"].max(),coords[\"Y\"].max(),coords[\"Z\"].max()))\n",
    "\n",
    "print()\n",
    "\n",
    "print(\"interpolated value medians -> x : {}, y : {}, z : {}\".format(new_points[\"X\"].median(),new_points[\"Y\"].median(),new_points[\"Z\"].median()))\n",
    "print(\"interpolated value mins -> x : {}, y : {}, z : {}\".format(new_points[\"X\"].min(),new_points[\"Y\"].min(),new_points[\"Z\"].min()))\n",
    "print(\"interpolated value maxs -> x : {}, y : {}, z : {}\".format(new_points[\"X\"].max(),new_points[\"Y\"].max(),new_points[\"Z\"].max()))"
   ]
  },
  {
   "cell_type": "code",
   "execution_count": 10,
   "id": "2a76bb6f-1797-444f-9a6c-feecf619c2d7",
   "metadata": {},
   "outputs": [
    {
     "data": {
      "text/html": [
       "<div>\n",
       "<style scoped>\n",
       "    .dataframe tbody tr th:only-of-type {\n",
       "        vertical-align: middle;\n",
       "    }\n",
       "\n",
       "    .dataframe tbody tr th {\n",
       "        vertical-align: top;\n",
       "    }\n",
       "\n",
       "    .dataframe thead th {\n",
       "        text-align: right;\n",
       "    }\n",
       "</style>\n",
       "<table border=\"1\" class=\"dataframe\">\n",
       "  <thead>\n",
       "    <tr style=\"text-align: right;\">\n",
       "      <th></th>\n",
       "      <th>X</th>\n",
       "      <th>Y</th>\n",
       "      <th>Z</th>\n",
       "    </tr>\n",
       "  </thead>\n",
       "  <tbody>\n",
       "    <tr>\n",
       "      <th>3</th>\n",
       "      <td>260716.220001</td>\n",
       "      <td>2.147507e+06</td>\n",
       "      <td>788.320007</td>\n",
       "    </tr>\n",
       "    <tr>\n",
       "      <th>4</th>\n",
       "      <td>260721.660004</td>\n",
       "      <td>2.147506e+06</td>\n",
       "      <td>792.869995</td>\n",
       "    </tr>\n",
       "    <tr>\n",
       "      <th>5</th>\n",
       "      <td>260718.139999</td>\n",
       "      <td>2.147526e+06</td>\n",
       "      <td>794.429993</td>\n",
       "    </tr>\n",
       "    <tr>\n",
       "      <th>6</th>\n",
       "      <td>260720.580002</td>\n",
       "      <td>2.147520e+06</td>\n",
       "      <td>792.830017</td>\n",
       "    </tr>\n",
       "    <tr>\n",
       "      <th>7</th>\n",
       "      <td>260723.419998</td>\n",
       "      <td>2.147517e+06</td>\n",
       "      <td>794.330017</td>\n",
       "    </tr>\n",
       "    <tr>\n",
       "      <th>...</th>\n",
       "      <td>...</td>\n",
       "      <td>...</td>\n",
       "      <td>...</td>\n",
       "    </tr>\n",
       "    <tr>\n",
       "      <th>520092</th>\n",
       "      <td>260619.631186</td>\n",
       "      <td>2.147575e+06</td>\n",
       "      <td>747.263564</td>\n",
       "    </tr>\n",
       "    <tr>\n",
       "      <th>520093</th>\n",
       "      <td>260801.166924</td>\n",
       "      <td>2.147563e+06</td>\n",
       "      <td>882.402214</td>\n",
       "    </tr>\n",
       "    <tr>\n",
       "      <th>520094</th>\n",
       "      <td>260720.486043</td>\n",
       "      <td>2.147549e+06</td>\n",
       "      <td>802.460624</td>\n",
       "    </tr>\n",
       "    <tr>\n",
       "      <th>520095</th>\n",
       "      <td>260653.982085</td>\n",
       "      <td>2.147625e+06</td>\n",
       "      <td>785.782576</td>\n",
       "    </tr>\n",
       "    <tr>\n",
       "      <th>520096</th>\n",
       "      <td>260699.704493</td>\n",
       "      <td>2.147651e+06</td>\n",
       "      <td>852.508571</td>\n",
       "    </tr>\n",
       "  </tbody>\n",
       "</table>\n",
       "<p>533572 rows × 3 columns</p>\n",
       "</div>"
      ],
      "text/plain": [
       "                    X             Y           Z\n",
       "3       260716.220001  2.147507e+06  788.320007\n",
       "4       260721.660004  2.147506e+06  792.869995\n",
       "5       260718.139999  2.147526e+06  794.429993\n",
       "6       260720.580002  2.147520e+06  792.830017\n",
       "7       260723.419998  2.147517e+06  794.330017\n",
       "...               ...           ...         ...\n",
       "520092  260619.631186  2.147575e+06  747.263564\n",
       "520093  260801.166924  2.147563e+06  882.402214\n",
       "520094  260720.486043  2.147549e+06  802.460624\n",
       "520095  260653.982085  2.147625e+06  785.782576\n",
       "520096  260699.704493  2.147651e+06  852.508571\n",
       "\n",
       "[533572 rows x 3 columns]"
      ]
     },
     "execution_count": 10,
     "metadata": {},
     "output_type": "execute_result"
    }
   ],
   "source": [
    "# are numbers look pretty good so lets combine the original data and the new_points\n",
    "\n",
    "final_result = coords.append(new_points)\n",
    "\n",
    "final_result "
   ]
  },
  {
   "cell_type": "code",
   "execution_count": 11,
   "id": "38ddec88-d354-461a-a0cd-4a1e6ee2f4ca",
   "metadata": {},
   "outputs": [
    {
     "name": "stdout",
     "output_type": "stream",
     "text": [
      "final Medians -> x : 260708.39047699276, y : 2147591.2491994016, z : 823.2307760514026\n",
      "final Mins -> x : 260594.11000061, y : 2147482.95999908, z : 699.90002441\n",
      "final Maxs -> x : 260822.61000061, y : 2147699.80000305, z : 1005.0175362985545\n"
     ]
    }
   ],
   "source": [
    "# checking our results\n",
    "print(\"final Medians -> x : {}, y : {}, z : {}\".format(final_result[\"X\"].median(),final_result[\"Y\"].median(),final_result[\"Z\"].median()))\n",
    "print(\"final Mins -> x : {}, y : {}, z : {}\".format(final_result[\"X\"].min(),final_result[\"Y\"].min(),final_result[\"Z\"].min()))\n",
    "print(\"final Maxs -> x : {}, y : {}, z : {}\".format(final_result[\"X\"].max(),final_result[\"Y\"].max(),final_result[\"Z\"].max()))\n"
   ]
  },
  {
   "cell_type": "code",
   "execution_count": 12,
   "id": "5209c908-2ce9-4e71-a240-ad33d75521b2",
   "metadata": {},
   "outputs": [],
   "source": [
    "# writing our result to a csv file so it can be opened up in cloudcompare\n",
    "final_result.to_csv(\"final_result_nn.txt\",index = False)"
   ]
  }
 ],
 "metadata": {
  "kernelspec": {
   "display_name": "Python 3 (ipykernel)",
   "language": "python",
   "name": "python3"
  },
  "language_info": {
   "codemirror_mode": {
    "name": "ipython",
    "version": 3
   },
   "file_extension": ".py",
   "mimetype": "text/x-python",
   "name": "python",
   "nbconvert_exporter": "python",
   "pygments_lexer": "ipython3",
   "version": "3.9.6"
  }
 },
 "nbformat": 4,
 "nbformat_minor": 5
}

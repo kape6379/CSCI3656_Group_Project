{
 "cells": [
  {
   "cell_type": "code",
   "execution_count": null,
   "id": "e995f393-dc17-4f3e-99eb-2009589048dd",
   "metadata": {},
   "outputs": [],
   "source": [
    "# this may take a while on coding.csel\n",
    "# if the kernel crashes try it again it should eventually work\n",
    "# it will definitly be easier work with a juptyer notebook not running in the cloud\n",
    "\n",
    "import Pkg; \n",
    "Pkg.add(\"CSV\")\n",
    "using LazIO\n",
    "using DataFrames\n",
    "using CSV\n",
    "\n",
    "file = LazIO.load(\"points.laz\")\n",
    "\n",
    "## load in the point cloud data\n",
    "data = DataFrame(CSV.File(\"points.txt\"))"
   ]
  },
  {
   "cell_type": "code",
   "execution_count": null,
   "id": "84ad0ac8-4a1a-44a3-9273-3f82db4aef0b",
   "metadata": {},
   "outputs": [],
   "source": []
  }
 ],
 "metadata": {
  "kernelspec": {
   "display_name": "Julia 1.6.1",
   "language": "julia",
   "name": "julia-1.6"
  },
  "language_info": {
   "file_extension": ".jl",
   "mimetype": "application/julia",
   "name": "julia",
   "version": "1.6.1"
  }
 },
 "nbformat": 4,
 "nbformat_minor": 5
}
